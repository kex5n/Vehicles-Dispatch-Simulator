{
 "cells": [
  {
   "cell_type": "code",
   "execution_count": null,
   "id": "ea0676bb-58e0-40bf-b78f-262f8097da02",
   "metadata": {},
   "outputs": [],
   "source": [
    "import pandas as pd\n",
    "from config import (\n",
    "    LATITUDE_UPPER_BOUND,\n",
    "    LATITUDE_LOWER_BOUND,\n",
    "    LONGITUDE_UPPER_BOUND,\n",
    "    LONGITUDE_LOWER_BOUND,\n",
    ")\n",
    "\n",
    "df = pd.read_csv(\"../data/Order/original/yellow_tripdata_2016-06.csv\")"
   ]
  },
  {
   "cell_type": "code",
   "execution_count": null,
   "id": "595138ff-4fe0-46fa-819b-ebbb5ac10da7",
   "metadata": {},
   "outputs": [],
   "source": [
    "df.columns"
   ]
  },
  {
   "cell_type": "code",
   "execution_count": null,
   "id": "07baa51f-495a-4b2e-89a8-7fa1830b8fe6",
   "metadata": {},
   "outputs": [],
   "source": [
    "USE_COLUMNS = [\n",
    "    \"tpep_pickup_datetime\",\n",
    "    \"tpep_dropoff_datetime\",\n",
    "    \"pickup_longitude\",\n",
    "    \"pickup_latitude\",\n",
    "    \"dropoff_longitude\",\n",
    "    \"dropoff_latitude\",\n",
    "]\n",
    "RENAME_DICT = {\n",
    "    \"tpep_pickup_datetime\": \"Start_time\",\n",
    "    \"tpep_dropoff_datetime\": \"End_time\",\n",
    "    \"pickup_longitude\": \"PointS_Longitude\",\n",
    "    \"pickup_latitude\": \"PointS_Latitude\",\n",
    "    \"dropoff_longitude\": \"PointE_Longitude\",\n",
    "    \"dropoff_latitude\": \"PointE_Latitude\",\n",
    "}\n"
   ]
  },
  {
   "cell_type": "code",
   "execution_count": null,
   "id": "4cdff31c-2c0d-46ae-89d2-747f6d375f7e",
   "metadata": {},
   "outputs": [],
   "source": [
    "len(df)"
   ]
  },
  {
   "cell_type": "code",
   "execution_count": null,
   "id": "5a1ccc18-0dbd-4c4b-982a-74056200322e",
   "metadata": {},
   "outputs": [],
   "source": [
    "rename_df = df[USE_COLUMNS].rename(columns=RENAME_DICT).sort_values(\"Start_time\").reset_index(drop=True)\n",
    "\n",
    "# NewYorkエリア外のレコードを除去する.\n",
    "rename_without_outlier_df = rename_df[\n",
    "    (rename_df[\"PointS_Longitude\"] > LONGITUDE_LOWER_BOUND)\n",
    "    & (rename_df[\"PointS_Longitude\"] < LONGITUDE_UPPER_BOUND)\n",
    "    & (rename_df[\"PointE_Longitude\"] > LONGITUDE_LOWER_BOUND)\n",
    "    & (rename_df[\"PointE_Longitude\"] < LONGITUDE_UPPER_BOUND)\n",
    "    & (rename_df[\"PointS_Latitude\"] > LATITUDE_LOWER_BOUND)\n",
    "    & (rename_df[\"PointS_Latitude\"] < LATITUDE_UPPER_BOUND)\n",
    "    & (rename_df[\"PointE_Latitude\"] > LATITUDE_LOWER_BOUND)\n",
    "    & (rename_df[\"PointE_Latitude\"] < LATITUDE_UPPER_BOUND)\n",
    "]"
   ]
  },
  {
   "cell_type": "code",
   "execution_count": null,
   "id": "a17e61db-e551-45f0-887b-02d4d3d10c10",
   "metadata": {},
   "outputs": [],
   "source": [
    "from datetime import datetime, timedelta\n",
    "\n",
    "rename_without_outlier_df[\"Start_time\"] = rename_without_outlier_df[\"Start_time\"].apply(\n",
    "    lambda x: datetime.strptime(x, \"%Y-%m-%d %H:%M:%S\")\n",
    ")"
   ]
  },
  {
   "cell_type": "code",
   "execution_count": null,
   "id": "a13124b2-116f-4d05-86a8-7b1aac7a5a12",
   "metadata": {},
   "outputs": [],
   "source": [
    "start_date = datetime(year=2016, month=6, day=1)\n",
    "while True:\n",
    "    next_date = start_date + timedelta(days=1)\n",
    "    tmp_df = rename_without_outlier_df[\n",
    "        (rename_without_outlier_df[\"Start_time\"]<next_date)\n",
    "        & (rename_without_outlier_df[\"Start_time\"]>start_date)\n",
    "    ]\n",
    "    tmp_df.to_csv(\n",
    "        f\"../data/Order/modified/order_2016{start_date.month}{str(start_date.day).zfill(2)}.csv\",\n",
    "        index=False\n",
    "    )\n",
    "    start_date = next_date\n",
    "    if start_date.month != 6:\n",
    "        break"
   ]
  },
  {
   "cell_type": "code",
   "execution_count": null,
   "id": "51364a88-ae80-4c95-85e1-68c7ab4a34c2",
   "metadata": {},
   "outputs": [],
   "source": []
  }
 ],
 "metadata": {
  "kernelspec": {
   "display_name": "Python 3 (ipykernel)",
   "language": "python",
   "name": "python3"
  },
  "language_info": {
   "codemirror_mode": {
    "name": "ipython",
    "version": 3
   },
   "file_extension": ".py",
   "mimetype": "text/x-python",
   "name": "python",
   "nbconvert_exporter": "python",
   "pygments_lexer": "ipython3",
   "version": "3.9.6"
  }
 },
 "nbformat": 4,
 "nbformat_minor": 5
}
