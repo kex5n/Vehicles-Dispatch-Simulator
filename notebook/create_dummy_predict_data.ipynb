{
 "cells": [
  {
   "cell_type": "code",
   "execution_count": null,
   "id": "20e06318-567a-43cb-b4d8-4614a2e58c02",
   "metadata": {},
   "outputs": [],
   "source": [
    "from datetime import datetime, timedelta\n",
    "import os\n",
    "from pathlib import Path\n",
    "pwd = Path(os.getcwd())\n",
    "\n",
    "import pytz\n",
    "import random\n",
    "import sys\n",
    "sys.path.append(str(pwd.parent))\n",
    "sys.path.append(str(pwd.parent / \"config\"))\n",
    "\n",
    "import warnings\n",
    "warnings.simplefilter(\"ignore\")\n",
    "\n",
    "import networkx as nx\n",
    "import numpy as np\n",
    "from osmread import parse_file, Node, Way\n",
    "import pandas as pd\n",
    "from sklearn.neighbors import NearestNeighbors\n",
    "from tqdm import tqdm\n",
    "\n",
    "from config import Config\n",
    "from util import haversine\n",
    "\n",
    "config = Config.load()"
   ]
  },
  {
   "cell_type": "code",
   "execution_count": null,
   "id": "2d675b48-6324-41a6-a036-8d59a13ee96a",
   "metadata": {},
   "outputs": [],
   "source": [
    "node_df = pd.read_csv(\"../data/Node.csv\")"
   ]
  },
  {
   "cell_type": "code",
   "execution_count": null,
   "id": "24198132-3ff4-42f2-9eaf-f2c52e3a21e4",
   "metadata": {},
   "outputs": [],
   "source": [
    "order_df = pd.read_csv(\"../data/Order/original/yellow_tripdata_2015-06.csv\")\n",
    "\n",
    "USE_COLUMNS = [\n",
    "    \"tpep_pickup_datetime\",\n",
    "    \"tpep_dropoff_datetime\",\n",
    "    \"pickup_longitude\",\n",
    "    \"pickup_latitude\",\n",
    "    \"dropoff_longitude\",\n",
    "    \"dropoff_latitude\",\n",
    "]\n",
    "RENAME_DICT = {\n",
    "    \"tpep_pickup_datetime\": \"Start_time\",\n",
    "    \"tpep_dropoff_datetime\": \"End_time\",\n",
    "    \"pickup_longitude\": \"PointS_Longitude\",\n",
    "    \"pickup_latitude\": \"PointS_Latitude\",\n",
    "    \"dropoff_longitude\": \"PointE_Longitude\",\n",
    "    \"dropoff_latitude\": \"PointE_Latitude\",\n",
    "}\n",
    "\n",
    "rename_order_df = order_df[USE_COLUMNS].rename(columns=RENAME_DICT).sort_values(\"Start_time\").reset_index(drop=True)\n",
    "\n",
    "# NewYorkエリア外のレコードを除去する.\n",
    "rename_order_without_outlier_df = rename_order_df[\n",
    "    (rename_order_df[\"PointS_Longitude\"] > config.LOCAL_REGION_BOUND.west_bound)\n",
    "    & (rename_order_df[\"PointS_Longitude\"] < config.LOCAL_REGION_BOUND.east_bound)\n",
    "    & (rename_order_df[\"PointE_Longitude\"] > config.LOCAL_REGION_BOUND.west_bound)\n",
    "    & (rename_order_df[\"PointE_Longitude\"] < config.LOCAL_REGION_BOUND.east_bound)\n",
    "    & (rename_order_df[\"PointS_Latitude\"] > config.LOCAL_REGION_BOUND.south_bound)\n",
    "    & (rename_order_df[\"PointS_Latitude\"] < config.LOCAL_REGION_BOUND.north_bound)\n",
    "    & (rename_order_df[\"PointE_Latitude\"] > config.LOCAL_REGION_BOUND.south_bound)\n",
    "    & (rename_order_df[\"PointE_Latitude\"] < config.LOCAL_REGION_BOUND.north_bound)\n",
    "]"
   ]
  },
  {
   "cell_type": "code",
   "execution_count": null,
   "id": "23451973-8a41-4743-b41d-6081dd5ee6d2",
   "metadata": {},
   "outputs": [],
   "source": [
    "def newyork_datetime_to_utc(datetime_str: str) -> int:\n",
    "    eastern = pytz.timezone('US/Eastern')\n",
    "    date = datetime.strptime(datetime_str, \"%Y-%m-%d %H:%M:%S\")\n",
    "    date.astimezone(eastern)\n",
    "    return int(date.timestamp())\n",
    "\n",
    "rename_order_without_outlier_df[\"Start_time\"] = rename_order_without_outlier_df[\"Start_time\"].apply(\n",
    "    lambda x: datetime.strptime(x, \"%Y-%m-%d %H:%M:%S\")\n",
    ")\n",
    "rename_order_without_outlier_df[\"End_time\"] = rename_order_without_outlier_df[\"End_time\"].apply(\n",
    "    lambda x: datetime.strptime(x, \"%Y-%m-%d %H:%M:%S\")\n",
    ")\n",
    "\n",
    "rename_order_without_outlier_df[\"Start_time\"] = rename_order_without_outlier_df[\"Start_time\"].apply(\n",
    "    lambda x: x - timedelta(days=2) + timedelta(days=365)\n",
    ")\n",
    "rename_order_without_outlier_df[\"End_time\"] = rename_order_without_outlier_df[\"End_time\"].apply(\n",
    "    lambda x: x - timedelta(days=2) + timedelta(days=365)\n",
    ")"
   ]
  },
  {
   "cell_type": "code",
   "execution_count": null,
   "id": "11c63dd8-fcb4-4b85-902d-6169ca330e11",
   "metadata": {},
   "outputs": [],
   "source": [
    "rename_order_without_outlier_df.sort_values(\"Start_time\").head()"
   ]
  },
  {
   "cell_type": "code",
   "execution_count": null,
   "id": "9c79f146-3591-4e2a-9225-8199ba45426d",
   "metadata": {},
   "outputs": [],
   "source": [
    "june_dummy_df = rename_order_without_outlier_df[rename_order_without_outlier_df[\"Start_time\"] >= datetime(2016, 6, 1)]"
   ]
  },
  {
   "cell_type": "code",
   "execution_count": null,
   "id": "8fb1d35e-9d4e-4e70-8408-e2c315d17c8c",
   "metadata": {},
   "outputs": [],
   "source": [
    "order_df = pd.read_csv(\"../data/Order/original/yellow_tripdata_2015-07.csv\")\n",
    "\n",
    "USE_COLUMNS = [\n",
    "    \"tpep_pickup_datetime\",\n",
    "    \"tpep_dropoff_datetime\",\n",
    "    \"pickup_longitude\",\n",
    "    \"pickup_latitude\",\n",
    "    \"dropoff_longitude\",\n",
    "    \"dropoff_latitude\",\n",
    "]\n",
    "RENAME_DICT = {\n",
    "    \"tpep_pickup_datetime\": \"Start_time\",\n",
    "    \"tpep_dropoff_datetime\": \"End_time\",\n",
    "    \"pickup_longitude\": \"PointS_Longitude\",\n",
    "    \"pickup_latitude\": \"PointS_Latitude\",\n",
    "    \"dropoff_longitude\": \"PointE_Longitude\",\n",
    "    \"dropoff_latitude\": \"PointE_Latitude\",\n",
    "}\n",
    "\n",
    "rename_order_df = order_df[USE_COLUMNS].rename(columns=RENAME_DICT).sort_values(\"Start_time\").reset_index(drop=True)\n",
    "\n",
    "# NewYorkエリア外のレコードを除去する.\n",
    "rename_order_without_outlier_df = rename_order_df[\n",
    "    (rename_order_df[\"PointS_Longitude\"] > config.LOCAL_REGION_BOUND.west_bound)\n",
    "    & (rename_order_df[\"PointS_Longitude\"] < config.LOCAL_REGION_BOUND.east_bound)\n",
    "    & (rename_order_df[\"PointE_Longitude\"] > config.LOCAL_REGION_BOUND.west_bound)\n",
    "    & (rename_order_df[\"PointE_Longitude\"] < config.LOCAL_REGION_BOUND.east_bound)\n",
    "    & (rename_order_df[\"PointS_Latitude\"] > config.LOCAL_REGION_BOUND.south_bound)\n",
    "    & (rename_order_df[\"PointS_Latitude\"] < config.LOCAL_REGION_BOUND.north_bound)\n",
    "    & (rename_order_df[\"PointE_Latitude\"] > config.LOCAL_REGION_BOUND.south_bound)\n",
    "    & (rename_order_df[\"PointE_Latitude\"] < config.LOCAL_REGION_BOUND.north_bound)\n",
    "]"
   ]
  },
  {
   "cell_type": "code",
   "execution_count": null,
   "id": "feea4d3a-d83f-4bc7-938c-cc7da564bbaf",
   "metadata": {},
   "outputs": [],
   "source": [
    "rename_order_without_outlier_df[\"Start_time\"] = rename_order_without_outlier_df[\"Start_time\"].apply(\n",
    "    lambda x: datetime.strptime(x, \"%Y-%m-%d %H:%M:%S\")\n",
    ")\n",
    "rename_order_without_outlier_df[\"End_time\"] = rename_order_without_outlier_df[\"End_time\"].apply(\n",
    "    lambda x: datetime.strptime(x, \"%Y-%m-%d %H:%M:%S\")\n",
    ")\n",
    "\n",
    "rename_order_without_outlier_df[\"Start_time\"] = rename_order_without_outlier_df[\"Start_time\"].apply(\n",
    "    lambda x: x - timedelta(days=2) + timedelta(days=365)\n",
    ")\n",
    "rename_order_without_outlier_df[\"End_time\"] = rename_order_without_outlier_df[\"End_time\"].apply(\n",
    "    lambda x: x - timedelta(days=2) + timedelta(days=365)\n",
    ")"
   ]
  },
  {
   "cell_type": "code",
   "execution_count": null,
   "id": "7ef2de4d-87fb-4810-8f2d-b28664e4c7e6",
   "metadata": {},
   "outputs": [],
   "source": [
    "july_dummy_df = rename_order_without_outlier_df[rename_order_without_outlier_df[\"Start_time\"] < datetime(2016, 7, 1)]"
   ]
  },
  {
   "cell_type": "code",
   "execution_count": null,
   "id": "ac1e1785-2685-4c6a-a30e-dc54ee789d79",
   "metadata": {},
   "outputs": [],
   "source": [
    "df = pd.concat([june_dummy_df, july_dummy_df])\n",
    "df.sort_values(\"Start_time\", inplace=True)"
   ]
  },
  {
   "cell_type": "code",
   "execution_count": null,
   "id": "5b7828fa-5fec-440c-815a-f001c665d3ac",
   "metadata": {},
   "outputs": [],
   "source": [
    "nn = NearestNeighbors(algorithm='ball_tree')\n",
    "nn.fit(node_df[[\"Longitude\", \"Latitude\"]].values)\n",
    "\n",
    "node_id_list = node_df[\"NodeID\"].values.tolist()\n",
    "\n",
    "_, start_indices = nn.kneighbors(\n",
    "    df[[\"PointS_Longitude\", \"PointS_Latitude\"]], n_neighbors=1)\n",
    "df[\"NodeS\"] = [node_id_list[i[0]] for i in start_indices]\n",
    "\n",
    "_, end_indices = nn.kneighbors(\n",
    "    df[[\"PointE_Longitude\", \"PointE_Latitude\"]], n_neighbors=1\n",
    ")\n",
    "df[\"NodeE\"] = [node_id_list[i[0]] for i in end_indices]"
   ]
  },
  {
   "cell_type": "code",
   "execution_count": null,
   "id": "d8c84b00-b607-4ce3-83cd-7cb2df59e56e",
   "metadata": {},
   "outputs": [],
   "source": [
    "df.head()"
   ]
  },
  {
   "cell_type": "code",
   "execution_count": null,
   "id": "3a70445f-a8fa-4879-bb99-7478bdfd3179",
   "metadata": {},
   "outputs": [],
   "source": [
    "cluster_df_path = Path(\"../data\") / (f\"({str(config.LOCAL_REGION_BOUND)})\" + \"9\" + config.AREA_MODE.value + \"Cluster.csv\")\n",
    "cluster_df = pd.read_csv(cluster_df_path)"
   ]
  },
  {
   "cell_type": "code",
   "execution_count": null,
   "id": "2267ae27-f1d9-4af2-814c-034e7dbfea3b",
   "metadata": {},
   "outputs": [],
   "source": [
    "grid_dict = {node_id: grid_id for node_id, grid_id in zip(cluster_df[\"NodeID\"].values, cluster_df[\"GridID\"].values)}"
   ]
  },
  {
   "cell_type": "code",
   "execution_count": null,
   "id": "a457ec03-1a82-42ea-affc-92c22fa3c011",
   "metadata": {},
   "outputs": [],
   "source": [
    "df[\"Start_GridID\"] = df[\"NodeS\"].map(grid_dict)\n",
    "df[\"End_GridID\"] = df[\"NodeS\"].map(grid_dict)\n",
    "dummy_df = df[[\"Start_time\", \"End_time\", \"NodeS\", \"NodeE\", \"Start_GridID\", \"End_GridID\"]]"
   ]
  },
  {
   "cell_type": "code",
   "execution_count": null,
   "id": "5650916d-c4f8-493f-9a37-04e13a97ed07",
   "metadata": {},
   "outputs": [],
   "source": [
    "def newyork_datetime_to_utc(date: datetime) -> int:\n",
    "    eastern = pytz.timezone('US/Eastern')\n",
    "    date.tz_localize(eastern)\n",
    "    return int(date.timestamp())\n",
    "\n",
    "dummy_df[\"ID\"] = range(len(dummy_df))\n",
    "start_date = datetime(year=2016, month=6, day=1)\n",
    "directory = \"dummy\"\n",
    "while True:\n",
    "    next_date = start_date + timedelta(days=1)\n",
    "    tmp_df = dummy_df[\n",
    "        (dummy_df[\"Start_time\"]<next_date)\n",
    "        & (dummy_df[\"Start_time\"]>start_date)\n",
    "    ]\n",
    "    tmp_df[\"Start_time\"] = tmp_df[\"Start_time\"].apply(newyork_datetime_to_utc)\n",
    "    tmp_df[\"End_time\"] = tmp_df[\"End_time\"].apply(newyork_datetime_to_utc)\n",
    "    tmp_df.to_csv(\n",
    "        f\"../data/Order/modified/{directory}/order_2016{str(start_date.month).zfill(2)}{str(start_date.day).zfill(2)}.csv\",\n",
    "        index=False\n",
    "    )\n",
    "    start_date = next_date\n",
    "    if start_date.month != 6:\n",
    "        break"
   ]
  },
  {
   "cell_type": "code",
   "execution_count": null,
   "id": "5cc29bf7-5a0a-4b42-9524-9023d37ad5c6",
   "metadata": {},
   "outputs": [],
   "source": [
    "tmp_df.groupby(\"Start_GridID\").count().reset_index()[[\"Start_GridID\", \"ID\"]].sort_values(\"Start_GridID\")"
   ]
  },
  {
   "cell_type": "code",
   "execution_count": null,
   "id": "9384240c-4432-4635-99c0-e66a369739aa",
   "metadata": {},
   "outputs": [],
   "source": []
  }
 ],
 "metadata": {
  "kernelspec": {
   "display_name": "Python 3 (ipykernel)",
   "language": "python",
   "name": "python3"
  },
  "language_info": {
   "codemirror_mode": {
    "name": "ipython",
    "version": 3
   },
   "file_extension": ".py",
   "mimetype": "text/x-python",
   "name": "python",
   "nbconvert_exporter": "python",
   "pygments_lexer": "ipython3",
   "version": "3.9.6"
  }
 },
 "nbformat": 4,
 "nbformat_minor": 5
}
