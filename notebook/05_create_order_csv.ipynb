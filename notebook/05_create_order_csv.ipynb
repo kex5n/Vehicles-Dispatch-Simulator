{
 "cells": [
  {
   "cell_type": "code",
   "execution_count": null,
   "id": "ea0676bb-58e0-40bf-b78f-262f8097da02",
   "metadata": {},
   "outputs": [],
   "source": [
    "import pandas as pd\n",
    "import pytz\n",
    "import os\n",
    "from pathlib import Path\n",
    "pwd = Path(os.getcwd())\n",
    "\n",
    "import sys\n",
    "sys.path.append(str(pwd.parent / \"config\"))\n",
    "\n",
    "from setting import LocalRegionBound\n",
    "\n",
    "LONGITUDE_LOWER_BOUND = LocalRegionBound[0]\n",
    "LONGITUDE_UPPER_BOUND = LocalRegionBound[1]\n",
    "LATITUDE_LOWER_BOUND = LocalRegionBound[2]\n",
    "LATITUDE_UPPER_BOUND = LocalRegionBound[3]\n",
    "\n",
    "df = pd.read_csv(\"../data/Order/original/yellow_tripdata_2016-06.csv\")"
   ]
  },
  {
   "cell_type": "code",
   "execution_count": null,
   "id": "595138ff-4fe0-46fa-819b-ebbb5ac10da7",
   "metadata": {},
   "outputs": [],
   "source": [
    "df.columns"
   ]
  },
  {
   "cell_type": "code",
   "execution_count": null,
   "id": "07baa51f-495a-4b2e-89a8-7fa1830b8fe6",
   "metadata": {},
   "outputs": [],
   "source": [
    "USE_COLUMNS = [\n",
    "    \"tpep_pickup_datetime\",\n",
    "    \"tpep_dropoff_datetime\",\n",
    "    \"pickup_longitude\",\n",
    "    \"pickup_latitude\",\n",
    "    \"dropoff_longitude\",\n",
    "    \"dropoff_latitude\",\n",
    "]\n",
    "RENAME_DICT = {\n",
    "    \"tpep_pickup_datetime\": \"Start_time\",\n",
    "    \"tpep_dropoff_datetime\": \"End_time\",\n",
    "    \"pickup_longitude\": \"PointS_Longitude\",\n",
    "    \"pickup_latitude\": \"PointS_Latitude\",\n",
    "    \"dropoff_longitude\": \"PointE_Longitude\",\n",
    "    \"dropoff_latitude\": \"PointE_Latitude\",\n",
    "}\n"
   ]
  },
  {
   "cell_type": "code",
   "execution_count": null,
   "id": "5a1ccc18-0dbd-4c4b-982a-74056200322e",
   "metadata": {},
   "outputs": [],
   "source": [
    "rename_df = df[USE_COLUMNS].rename(columns=RENAME_DICT).sort_values(\"Start_time\").reset_index(drop=True)\n",
    "\n",
    "# NewYorkエリア外のレコードを除去する.\n",
    "rename_without_outlier_df = rename_df[\n",
    "    (rename_df[\"PointS_Longitude\"] > LONGITUDE_LOWER_BOUND)\n",
    "    & (rename_df[\"PointS_Longitude\"] < LONGITUDE_UPPER_BOUND)\n",
    "    & (rename_df[\"PointE_Longitude\"] > LONGITUDE_LOWER_BOUND)\n",
    "    & (rename_df[\"PointE_Longitude\"] < LONGITUDE_UPPER_BOUND)\n",
    "    & (rename_df[\"PointS_Latitude\"] > LATITUDE_LOWER_BOUND)\n",
    "    & (rename_df[\"PointS_Latitude\"] < LATITUDE_UPPER_BOUND)\n",
    "    & (rename_df[\"PointE_Latitude\"] > LATITUDE_LOWER_BOUND)\n",
    "    & (rename_df[\"PointE_Latitude\"] < LATITUDE_UPPER_BOUND)\n",
    "]"
   ]
  },
  {
   "cell_type": "code",
   "execution_count": null,
   "id": "e9f67f14-cb77-4482-b088-4410ec2825bb",
   "metadata": {},
   "outputs": [],
   "source": [
    "node_df = pd.read_csv(\"../data/Node.csv\")\n",
    "lnglat = node_df[[\"Longitude\", \"Latitude\"]].values\n",
    "lnglat"
   ]
  },
  {
   "cell_type": "code",
   "execution_count": null,
   "id": "406d2cba-2c2e-49aa-814b-0aa70767af0a",
   "metadata": {},
   "outputs": [],
   "source": [
    "len(rename_without_outlier_df)"
   ]
  },
  {
   "cell_type": "code",
   "execution_count": null,
   "id": "8fc9e5d9-46bf-4029-ba19-2d84e86489d6",
   "metadata": {},
   "outputs": [],
   "source": [
    "NodeIDs[0]"
   ]
  },
  {
   "cell_type": "code",
   "execution_count": null,
   "id": "662bbf4e-85bf-41aa-beaa-a234ddce3977",
   "metadata": {},
   "outputs": [],
   "source": [
    "from tqdm import tqdm\n",
    "from dataclasses import dataclass\n",
    "from sklearn.neighbors import NearestNeighbors\n",
    "from concurrent.futures import ThreadPoolExecutor\n",
    "nn = NearestNeighbors(algorithm='ball_tree')\n",
    "nn.fit(node_df[[\"Longitude\", \"Latitude\"]].values)\n",
    "\n",
    "NodeIDs = node_df[\"NodeID\"].values\n",
    "_, start_indices = nn.kneighbors(rename_without_outlier_df[[\"PointS_Longitude\", \"PointS_Latitude\"]], n_neighbors=1)\n",
    "\n",
    "rename_without_outlier_df[\"NodeS\"] = [NodeIDs[i][0] for i in start_indices]\n",
    "_, end_indices = nn.kneighbors(rename_without_outlier_df[[\"PointE_Longitude\", \"PointE_Latitude\"]], n_neighbors=1)\n",
    "rename_without_outlier_df[\"NodeE\"] = [NodeIDs[i][0] for i in end_indices]"
   ]
  },
  {
   "cell_type": "code",
   "execution_count": null,
   "id": "05d1568c-63e3-4723-b25c-2645847c48a9",
   "metadata": {},
   "outputs": [],
   "source": [
    "rename_without_outlier_df.head()"
   ]
  },
  {
   "cell_type": "code",
   "execution_count": null,
   "id": "a17e61db-e551-45f0-887b-02d4d3d10c10",
   "metadata": {},
   "outputs": [],
   "source": [
    "from datetime import datetime, timedelta\n",
    "\n",
    "rename_without_outlier_df[\"Start_datetime\"] = rename_without_outlier_df[\"Start_time\"].apply(\n",
    "    lambda x: datetime.strptime(x, \"%Y-%m-%d %H:%M:%S\")\n",
    ")"
   ]
  },
  {
   "cell_type": "code",
   "execution_count": null,
   "id": "ea9574a0-ac31-4391-a60d-31147b28416d",
   "metadata": {},
   "outputs": [],
   "source": [
    "def newyork_datetime_to_utc(datetime_str: str) -> int:\n",
    "    eastern = pytz.timezone('US/Eastern')\n",
    "    date = datetime.strptime(datetime_str, \"%Y-%m-%d %H:%M:%S\")\n",
    "    date.astimezone(eastern)\n",
    "    return int(date.timestamp())"
   ]
  },
  {
   "cell_type": "code",
   "execution_count": null,
   "id": "a9e1914d-107f-44d0-8f08-2e89a1a890cd",
   "metadata": {},
   "outputs": [],
   "source": [
    "rename_without_outlier_df[\"ID\"] = range(len(rename_without_outlier_df))"
   ]
  },
  {
   "cell_type": "code",
   "execution_count": null,
   "id": "a13124b2-116f-4d05-86a8-7b1aac7a5a12",
   "metadata": {},
   "outputs": [],
   "source": [
    "start_date = datetime(year=2016, month=6, day=1)\n",
    "directory = \"train\"\n",
    "while True:\n",
    "    next_date = start_date + timedelta(days=1)\n",
    "    tmp_df = rename_without_outlier_df[\n",
    "        (rename_without_outlier_df[\"Start_datetime\"]<next_date)\n",
    "        & (rename_without_outlier_df[\"Start_datetime\"]>start_date)\n",
    "    ]\n",
    "    tmp_df[\"Start_time\"] = tmp_df[\"Start_time\"].apply(newyork_datetime_to_utc)\n",
    "    tmp_df[\"End_time\"] = tmp_df[\"End_time\"].apply(newyork_datetime_to_utc)\n",
    "    if start_date.day >= 24:\n",
    "        directory = \"test\"\n",
    "    tmp_df[[\"ID\"] + list(RENAME_DICT.values()) + [\"NodeS\", \"NodeE\"]].to_csv(\n",
    "        f\"../data/Order/modified/{directory}/order_2016{str(start_date.month).zfill(2)}{str(start_date.day).zfill(2)}.csv\",\n",
    "        index=False\n",
    "    )\n",
    "    start_date = next_date\n",
    "    if start_date.month != 6:\n",
    "        break"
   ]
  },
  {
   "cell_type": "code",
   "execution_count": null,
   "id": "bf921e0c-65e4-4b41-b5d6-18589705645c",
   "metadata": {},
   "outputs": [],
   "source": []
  }
 ],
 "metadata": {
  "kernelspec": {
   "display_name": "Python 3 (ipykernel)",
   "language": "python",
   "name": "python3"
  },
  "language_info": {
   "codemirror_mode": {
    "name": "ipython",
    "version": 3
   },
   "file_extension": ".py",
   "mimetype": "text/x-python",
   "name": "python",
   "nbconvert_exporter": "python",
   "pygments_lexer": "ipython3",
   "version": "3.9.6"
  }
 },
 "nbformat": 4,
 "nbformat_minor": 5
}
