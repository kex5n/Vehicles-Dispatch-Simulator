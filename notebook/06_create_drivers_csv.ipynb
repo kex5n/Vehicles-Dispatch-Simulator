{
 "cells": [
  {
   "cell_type": "code",
   "execution_count": null,
   "id": "3b29cbde-0fd8-4d92-8927-a0f37a515cd5",
   "metadata": {},
   "outputs": [],
   "source": [
    "import pandas as pd\n",
    "import random\n",
    "\n",
    "node_df = pd.read_csv(\"../data/Node.csv\")"
   ]
  },
  {
   "cell_type": "code",
   "execution_count": null,
   "id": "2b7ed486-433a-413e-983e-4863ce856910",
   "metadata": {},
   "outputs": [],
   "source": [
    "driver_start_points = random.choices(node_df[\"NodeID\"], k=15000)"
   ]
  },
  {
   "cell_type": "code",
   "execution_count": null,
   "id": "74d8c547-7392-4882-97fc-e9495fe67f69",
   "metadata": {},
   "outputs": [],
   "source": [
    "df = pd.DataFrame({\"DriverID\": range(0,15000), \"NodeS\": driver_start_points})"
   ]
  },
  {
   "cell_type": "code",
   "execution_count": null,
   "id": "3b5101da-92ac-4a0d-882e-aff258be89ca",
   "metadata": {},
   "outputs": [],
   "source": [
    "df.to_csv(\"../data/Drivers0601.csv\", index=False)"
   ]
  },
  {
   "cell_type": "code",
   "execution_count": null,
   "id": "36a86a99-b3dc-4f92-a89e-76e2f6037d83",
   "metadata": {},
   "outputs": [],
   "source": []
  }
 ],
 "metadata": {
  "kernelspec": {
   "display_name": "Python 3 (ipykernel)",
   "language": "python",
   "name": "python3"
  },
  "language_info": {
   "codemirror_mode": {
    "name": "ipython",
    "version": 3
   },
   "file_extension": ".py",
   "mimetype": "text/x-python",
   "name": "python",
   "nbconvert_exporter": "python",
   "pygments_lexer": "ipython3",
   "version": "3.9.6"
  }
 },
 "nbformat": 4,
 "nbformat_minor": 5
}
