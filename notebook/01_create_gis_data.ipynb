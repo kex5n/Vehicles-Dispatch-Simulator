{
 "cells": [
  {
   "cell_type": "markdown",
   "id": "8d71b270-853e-43ef-87e2-b68a1b2b0310",
   "metadata": {
    "tags": []
   },
   "source": [
    "# create gis data\n",
    "実験に使用するosmファイルをcsvに変換する.\n",
    "\n",
    "- input: newyork.osm.pbf\n",
    "- output: Raw_Node.csv"
   ]
  },
  {
   "cell_type": "code",
   "execution_count": 195,
   "id": "2bb3d886-c10d-4a28-90ef-386a76a4ea7d",
   "metadata": {},
   "outputs": [],
   "source": [
    "from osmread import parse_file, Node, Way\n",
    "file_path = \"../data/newyork.osm.pbf\"\n",
    "file = parse_file(file_path)"
   ]
  },
  {
   "cell_type": "code",
   "execution_count": 196,
   "id": "ede58a86-9b14-413a-9f35-09f009f0522d",
   "metadata": {},
   "outputs": [],
   "source": [
    "nodes = []\n",
    "ways = []\n",
    "for data in file:\n",
    "    if isinstance(data, Node):\n",
    "        if data.tags == {}:\n",
    "            nodes.append(data)\n",
    "    if isinstance(data, Way):\n",
    "        ways.append(data)"
   ]
  },
  {
   "cell_type": "code",
   "execution_count": null,
   "id": "da46564f-c9e8-4a6a-98d4-13d14f8ed4ed",
   "metadata": {},
   "outputs": [],
   "source": [
    "df = pd.DataFrame(columns=[\"NodeID\", \"WayID\"])\n",
    "for way in ways:\n",
    "    tmp_df = pd.DataFrame({\"NodeID\": way.nodes, \"WayID\": way.id})\n",
    "    df = pd.concat([df, tmp_df])"
   ]
  },
  {
   "cell_type": "code",
   "execution_count": null,
   "id": "66dda2c1-bc2c-4e7c-b9d1-08a5b6585ba6",
   "metadata": {},
   "outputs": [],
   "source": [
    "node_map_lat = {}\n",
    "node_map_lon = {}\n",
    "for node in nodes:\n",
    "    node_map_lat.update({node.id: node.lat})\n",
    "    node_map_lon.update({node.id: node.lon})"
   ]
  },
  {
   "cell_type": "code",
   "execution_count": null,
   "id": "aa862802-f9dd-4ed5-9761-e6b332b85f39",
   "metadata": {},
   "outputs": [],
   "source": [
    "df[\"Longitude\"] = df[\"NodeID\"].map(node_map_lon)\n",
    "df[\"Latitude\"] = df[\"NodeID\"].map(node_map_lat)"
   ]
  },
  {
   "cell_type": "code",
   "execution_count": null,
   "id": "88fff994-ac2e-4851-9061-df6169afe7d3",
   "metadata": {},
   "outputs": [],
   "source": [
    "df.dropna(inplace=True)\n",
    "df.to_csv(\"../data/Raw_Node.csv\", index=False)"
   ]
  },
  {
   "cell_type": "code",
   "execution_count": null,
   "id": "dddc7257-b849-48b0-bd5e-4c2743ffdb54",
   "metadata": {},
   "outputs": [],
   "source": []
  }
 ],
 "metadata": {
  "kernelspec": {
   "display_name": "Python 3 (ipykernel)",
   "language": "python",
   "name": "python3"
  },
  "language_info": {
   "codemirror_mode": {
    "name": "ipython",
    "version": 3
   },
   "file_extension": ".py",
   "mimetype": "text/x-python",
   "name": "python",
   "nbconvert_exporter": "python",
   "pygments_lexer": "ipython3",
   "version": "3.9.6"
  }
 },
 "nbformat": 4,
 "nbformat_minor": 5
}
