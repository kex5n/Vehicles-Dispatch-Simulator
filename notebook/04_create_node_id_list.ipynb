{
 "cells": [
  {
   "cell_type": "markdown",
   "id": "bdf3be5c-52e4-4338-9c78-5e08eaf1080c",
   "metadata": {},
   "source": [
    "# create node id list\n",
    "NodeIDList.txtを作成する.\n",
    "\n",
    "- input: Node.csv\n",
    "- output: NodeIDList.txt"
   ]
  },
  {
   "cell_type": "code",
   "execution_count": null,
   "id": "e841a447-6fc7-4ec2-84fd-745305843d72",
   "metadata": {},
   "outputs": [],
   "source": [
    "import pandas as pd\n",
    "\n",
    "node_df = pd.read_csv(\"../data/Node.csv\")"
   ]
  },
  {
   "cell_type": "code",
   "execution_count": 6,
   "id": "59ca2840-d76b-47a8-bc6d-41410f1e2ee0",
   "metadata": {},
   "outputs": [],
   "source": [
    "with open(\"../data/NodeIDList.txt\", mode=\"w\") as f:\n",
    "    for node_id in set(node_df[\"NodeID\"]):\n",
    "        f.write(f\"{node_id}\\n\")"
   ]
  },
  {
   "cell_type": "code",
   "execution_count": null,
   "id": "f2424598-548f-4f8c-b50b-a0da5f09e3ed",
   "metadata": {},
   "outputs": [],
   "source": []
  }
 ],
 "metadata": {
  "kernelspec": {
   "display_name": "Python 3 (ipykernel)",
   "language": "python",
   "name": "python3"
  },
  "language_info": {
   "codemirror_mode": {
    "name": "ipython",
    "version": 3
   },
   "file_extension": ".py",
   "mimetype": "text/x-python",
   "name": "python",
   "nbconvert_exporter": "python",
   "pygments_lexer": "ipython3",
   "version": "3.9.6"
  }
 },
 "nbformat": 4,
 "nbformat_minor": 5
}
