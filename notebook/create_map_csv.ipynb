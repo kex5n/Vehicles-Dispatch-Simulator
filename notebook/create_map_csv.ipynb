{
 "cells": [
  {
   "cell_type": "code",
   "execution_count": 14,
   "id": "ea0676bb-58e0-40bf-b78f-262f8097da02",
   "metadata": {},
   "outputs": [],
   "source": [
    "import pandas as pd\n",
    "\n",
    "df = pd.read_csv(\"../data/Order/original/yellow_tripdata_2016-06.csv\")"
   ]
  },
  {
   "cell_type": "code",
   "execution_count": 19,
   "id": "595138ff-4fe0-46fa-819b-ebbb5ac10da7",
   "metadata": {},
   "outputs": [
    {
     "data": {
      "text/plain": [
       "Index(['VendorID', 'tpep_pickup_datetime', 'tpep_dropoff_datetime',\n",
       "       'passenger_count', 'trip_distance', 'pickup_longitude',\n",
       "       'pickup_latitude', 'RatecodeID', 'store_and_fwd_flag',\n",
       "       'dropoff_longitude', 'dropoff_latitude', 'payment_type', 'fare_amount',\n",
       "       'extra', 'mta_tax', 'tip_amount', 'tolls_amount',\n",
       "       'improvement_surcharge', 'total_amount'],\n",
       "      dtype='object')"
      ]
     },
     "execution_count": 19,
     "metadata": {},
     "output_type": "execute_result"
    }
   ],
   "source": [
    "df.columns"
   ]
  },
  {
   "cell_type": "code",
   "execution_count": 20,
   "id": "07baa51f-495a-4b2e-89a8-7fa1830b8fe6",
   "metadata": {},
   "outputs": [],
   "source": [
    "USE_COLUMNS = [\n",
    "    \"tpep_pickup_datetime\",\n",
    "    \"tpep_dropoff_datetime\",\n",
    "    \"pickup_longitude\",\n",
    "    \"pickup_latitude\",\n",
    "    \"dropoff_longitude\",\n",
    "    \"dropoff_latitude\",\n",
    "]\n",
    "RENAME_DICT = {\n",
    "    \"tpep_pickup_datetime\": \"Start_time\",\n",
    "    \"tpep_dropoff_datetime\": \"End_time\",\n",
    "    \"pickup_longitude\": \"PointS_Longitude\",\n",
    "    \"pickup_latitude\": \"PointS_Latitude\",\n",
    "    \"dropoff_longitude\": \"PointE_Longitude\",\n",
    "    \"dropoff_latitude\": \"PointE_Latitude\",\n",
    "}"
   ]
  },
  {
   "cell_type": "code",
   "execution_count": 21,
   "id": "4cdff31c-2c0d-46ae-89d2-747f6d375f7e",
   "metadata": {},
   "outputs": [
    {
     "data": {
      "text/plain": [
       "11135470"
      ]
     },
     "execution_count": 21,
     "metadata": {},
     "output_type": "execute_result"
    }
   ],
   "source": [
    "len(df)"
   ]
  },
  {
   "cell_type": "code",
   "execution_count": 29,
   "id": "5a1ccc18-0dbd-4c4b-982a-74056200322e",
   "metadata": {},
   "outputs": [
    {
     "data": {
      "text/html": [
       "<div>\n",
       "<style scoped>\n",
       "    .dataframe tbody tr th:only-of-type {\n",
       "        vertical-align: middle;\n",
       "    }\n",
       "\n",
       "    .dataframe tbody tr th {\n",
       "        vertical-align: top;\n",
       "    }\n",
       "\n",
       "    .dataframe thead th {\n",
       "        text-align: right;\n",
       "    }\n",
       "</style>\n",
       "<table border=\"1\" class=\"dataframe\">\n",
       "  <thead>\n",
       "    <tr style=\"text-align: right;\">\n",
       "      <th></th>\n",
       "      <th>Start_time</th>\n",
       "      <th>End_time</th>\n",
       "      <th>PointS_Longitude</th>\n",
       "      <th>PointS_Latitude</th>\n",
       "      <th>PointE_Longitude</th>\n",
       "      <th>PointE_Latitude</th>\n",
       "    </tr>\n",
       "  </thead>\n",
       "  <tbody>\n",
       "    <tr>\n",
       "      <th>0</th>\n",
       "      <td>2016-06-01 00:00:00</td>\n",
       "      <td>2016-06-01 00:00:00</td>\n",
       "      <td>-73.997505</td>\n",
       "      <td>40.725487</td>\n",
       "      <td>-73.997742</td>\n",
       "      <td>40.744919</td>\n",
       "    </tr>\n",
       "    <tr>\n",
       "      <th>1</th>\n",
       "      <td>2016-06-01 00:00:00</td>\n",
       "      <td>2016-06-01 00:14:11</td>\n",
       "      <td>-73.972916</td>\n",
       "      <td>40.754993</td>\n",
       "      <td>-73.992264</td>\n",
       "      <td>40.725243</td>\n",
       "    </tr>\n",
       "    <tr>\n",
       "      <th>2</th>\n",
       "      <td>2016-06-01 00:00:00</td>\n",
       "      <td>2016-06-01 00:15:25</td>\n",
       "      <td>-73.962227</td>\n",
       "      <td>40.760635</td>\n",
       "      <td>-73.922287</td>\n",
       "      <td>40.827213</td>\n",
       "    </tr>\n",
       "    <tr>\n",
       "      <th>3</th>\n",
       "      <td>2016-06-01 00:00:00</td>\n",
       "      <td>2016-06-01 00:07:41</td>\n",
       "      <td>-74.008446</td>\n",
       "      <td>40.706024</td>\n",
       "      <td>-74.013390</td>\n",
       "      <td>40.709644</td>\n",
       "    </tr>\n",
       "    <tr>\n",
       "      <th>4</th>\n",
       "      <td>2016-06-01 00:00:01</td>\n",
       "      <td>2016-06-01 00:03:00</td>\n",
       "      <td>-73.976189</td>\n",
       "      <td>40.775909</td>\n",
       "      <td>-73.982300</td>\n",
       "      <td>40.767860</td>\n",
       "    </tr>\n",
       "  </tbody>\n",
       "</table>\n",
       "</div>"
      ],
      "text/plain": [
       "            Start_time             End_time  PointS_Longitude  \\\n",
       "0  2016-06-01 00:00:00  2016-06-01 00:00:00        -73.997505   \n",
       "1  2016-06-01 00:00:00  2016-06-01 00:14:11        -73.972916   \n",
       "2  2016-06-01 00:00:00  2016-06-01 00:15:25        -73.962227   \n",
       "3  2016-06-01 00:00:00  2016-06-01 00:07:41        -74.008446   \n",
       "4  2016-06-01 00:00:01  2016-06-01 00:03:00        -73.976189   \n",
       "\n",
       "   PointS_Latitude  PointE_Longitude  PointE_Latitude  \n",
       "0        40.725487        -73.997742        40.744919  \n",
       "1        40.754993        -73.992264        40.725243  \n",
       "2        40.760635        -73.922287        40.827213  \n",
       "3        40.706024        -74.013390        40.709644  \n",
       "4        40.775909        -73.982300        40.767860  "
      ]
     },
     "execution_count": 29,
     "metadata": {},
     "output_type": "execute_result"
    }
   ],
   "source": [
    "rename_df = df[USE_COLUMNS].rename(columns=RENAME_DICT).sort_values(\"Start_time\").reset_index(drop=True)\n",
    "rename_df.head()"
   ]
  },
  {
   "cell_type": "code",
   "execution_count": 39,
   "id": "a17e61db-e551-45f0-887b-02d4d3d10c10",
   "metadata": {},
   "outputs": [],
   "source": [
    "from datetime import datetime, timedelta\n",
    "\n",
    "rename_df[\"Start_time\"] = rename_df[\"Start_time\"].apply(\n",
    "    lambda x: datetime.strptime(x, \"%Y-%m-%d %H:%M:%S\")\n",
    ")"
   ]
  },
  {
   "cell_type": "code",
   "execution_count": 52,
   "id": "a13124b2-116f-4d05-86a8-7b1aac7a5a12",
   "metadata": {},
   "outputs": [],
   "source": [
    "start_date = datetime(year=2016, month=6, day=1)\n",
    "while True:\n",
    "    next_date = start_date + timedelta(days=1)\n",
    "    tmp_df = rename_df[(rename_df[\"Start_time\"]<next_date) & (rename_df[\"Start_time\"]>start_date)]\n",
    "    tmp_df.to_csv(\n",
    "        f\"../data/Order/modified/order_2016{start_date.month}{str(start_date.day).zfill(2)}.csv\",\n",
    "        index=False\n",
    "    )\n",
    "    start_date = next_date\n",
    "    if start_date.month != 6:\n",
    "        break"
   ]
  },
  {
   "cell_type": "code",
   "execution_count": null,
   "id": "51364a88-ae80-4c95-85e1-68c7ab4a34c2",
   "metadata": {},
   "outputs": [],
   "source": []
  }
 ],
 "metadata": {
  "kernelspec": {
   "display_name": "Python 3 (ipykernel)",
   "language": "python",
   "name": "python3"
  },
  "language_info": {
   "codemirror_mode": {
    "name": "ipython",
    "version": 3
   },
   "file_extension": ".py",
   "mimetype": "text/x-python",
   "name": "python",
   "nbconvert_exporter": "python",
   "pygments_lexer": "ipython3",
   "version": "3.9.6"
  }
 },
 "nbformat": 4,
 "nbformat_minor": 5
}
