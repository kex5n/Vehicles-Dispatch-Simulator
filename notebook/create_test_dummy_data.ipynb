{
 "cells": [
  {
   "cell_type": "markdown",
   "id": "7acf859c-7697-406c-86c4-920a6eac78fe",
   "metadata": {},
   "source": [
    "# Create dummy data for operation check"
   ]
  },
  {
   "cell_type": "code",
   "execution_count": 1,
   "id": "8dd2ccd3-c322-4e52-9c9c-8185ca8ce45f",
   "metadata": {},
   "outputs": [],
   "source": [
    "from dataclasses import dataclass\n",
    "from datetime import datetime, timedelta\n",
    "import os\n",
    "from pathlib import Path\n",
    "from typing import List\n",
    "pwd = Path(os.getcwd())\n",
    "\n",
    "import pytz\n",
    "import random\n",
    "import sys\n",
    "sys.path.append(str(pwd.parent))\n",
    "sys.path.append(str(pwd.parent / \"config\"))\n",
    "\n",
    "import warnings\n",
    "warnings.simplefilter(\"ignore\")\n",
    "\n",
    "import networkx as nx\n",
    "import numpy as np\n",
    "from osmread import parse_file, Node, Way\n",
    "import pandas as pd\n",
    "from sklearn.neighbors import NearestNeighbors\n",
    "from tqdm import tqdm\n",
    "\n",
    "from config import Config\n",
    "from util import haversine\n",
    "import matplotlib.pyplot as plt\n",
    "import matplotlib as mpl\n",
    "\n",
    "config = Config.load()"
   ]
  },
  {
   "cell_type": "code",
   "execution_count": 2,
   "id": "23e1af6b-f0d8-4e88-982b-7a16ae53ccc3",
   "metadata": {},
   "outputs": [],
   "source": [
    "@dataclass\n",
    "class Node:\n",
    "    node_id: int\n",
    "    node_index: int\n",
    "    longitude: float\n",
    "    latitude: float\n",
    "\n",
    "\n",
    "class Grid:\n",
    "    def __init__(\n",
    "        self,\n",
    "        idx,\n",
    "        west_bound,\n",
    "        east_bound,\n",
    "        south_bound,\n",
    "        north_bound,\n",
    "        center_longitude,\n",
    "        center_latitude,\n",
    "    ):\n",
    "        self.idx = idx\n",
    "        self.__west_bound = west_bound\n",
    "        self.__east_bound = east_bound\n",
    "        self.__south_bound = south_bound\n",
    "        self.__north_bound = north_bound\n",
    "        self.__center_longitude = center_longitude\n",
    "        self.__center_latitude = center_latitude\n",
    "        self.__centroid = None\n",
    "        self.__nodes = []\n",
    "        self.__total_cost = 0.0\n",
    "        self.done_flag = False\n",
    "\n",
    "    @property\n",
    "    def west_bound(self):\n",
    "        return self.__west_bound\n",
    "\n",
    "    @property\n",
    "    def east_bound(self):\n",
    "        return self.__east_bound\n",
    "\n",
    "    @property\n",
    "    def south_bound(self):\n",
    "        return self.__south_bound\n",
    "\n",
    "    @property\n",
    "    def north_bound(self):\n",
    "        return self.__north_bound\n",
    "\n",
    "    @property\n",
    "    def center_longitude(self):\n",
    "        return self.__center_longitude\n",
    "\n",
    "    @property\n",
    "    def center_latitude(self):\n",
    "        return self.__center_latitude\n",
    "\n",
    "    @property\n",
    "    def total_cost(self):\n",
    "        return self.__total_cost\n",
    "    \n",
    "    def add_cost(self, cost: float) -> None:\n",
    "        self.__total_cost += cost\n",
    "\n",
    "    @property\n",
    "    def centroid(self) -> Node:\n",
    "        return self.__centroid\n",
    "\n",
    "    def set_centroid(self, centroid: Node) -> None:\n",
    "        self.__centroid = centroid\n",
    "        self.__nodes.append(centroid)\n",
    "\n",
    "    def get_nodes(self):\n",
    "        return [node for node in self.__nodes]\n",
    "        \n",
    "    def add_node(self, node: Node) -> None:\n",
    "        self.__nodes.append(node)\n",
    "\n",
    "class GridManager:\n",
    "    def __init__(self):\n",
    "        self.__grid_list = []\n",
    "\n",
    "    def add_grid(self, grid):\n",
    "        self.__grid_list.append(grid)\n",
    "\n",
    "    def get_grids(self):\n",
    "        return [grid for grid in self.__grid_list]\n",
    "        \n",
    "    def get_minimun_cost_grid(self):\n",
    "        min_cost = np.inf\n",
    "        min_grid = None\n",
    "        for grid in list(filter(lambda x: not x.done_flag, self.__grid_list)):\n",
    "            if grid.total_cost < min_cost:\n",
    "                min_grid = grid\n",
    "            min_cost = min(min_cost, grid.total_cost)\n",
    "        return min_grid\n",
    "\n",
    "    def __len__(self):\n",
    "        return len(self.__grid_list)\n",
    "    \n",
    "\n",
    "class CostDB:\n",
    "    def __init__(self, cost_csv_path, node_csv_path) -> None:\n",
    "        node_id_list_df = pd.read_csv(node_csv_path)\n",
    "        self.node_id_map = {\n",
    "            node_id: node_index for node_index, node_id in zip(\n",
    "                node_id_list_df[\"NodeIndex\"].values,\n",
    "                node_id_list_df[\"NodeID\"].values\n",
    "            )\n",
    "        }\n",
    "        self.cost_matrix = pd.read_csv(cost_csv_path, header=None).values\n",
    "\n",
    "    def calc_cost(self, start_node_id, end_node_id) -> float:\n",
    "        start_idx = self.node_id_map[start_node_id]\n",
    "        end_idx = self.node_id_map[end_node_id]\n",
    "        return self.cost_matrix[start_idx][end_idx]\n",
    "        \n",
    "\n",
    "cost_db = CostDB(cost_csv_path=\"../data/AccurateMap.csv\", node_csv_path=\"../data/Node.csv\")"
   ]
  },
  {
   "cell_type": "code",
   "execution_count": 3,
   "id": "6e2adf4e-c287-4b0f-a9ea-780770c622c2",
   "metadata": {},
   "outputs": [],
   "source": [
    "df = pd.read_csv(\"../data/NodeConnection.csv\")\n",
    "node_info_df = df[[\"NodeID\", \"Longitude\", \"Latitude\"]].drop_duplicates()\n",
    "node_info = {\n",
    "    node_id: {\n",
    "        \"node_index\": node_index,\n",
    "        \"longitude\": longitude,\n",
    "        \"latitude\": lattitude,\n",
    "    } for node_index, (node_id, longitude, lattitude) in enumerate(\n",
    "        zip(node_info_df[\"NodeID\"].values, node_info_df[\"Longitude\"].values, node_info_df[\"Latitude\"].values))\n",
    "}"
   ]
  },
  {
   "cell_type": "code",
   "execution_count": 4,
   "id": "8db7ec6d-6677-4097-9eb4-cb1c8720b2f5",
   "metadata": {},
   "outputs": [],
   "source": [
    "__average_longitude = (config.LOCAL_REGION_BOUND.east_bound - config.LOCAL_REGION_BOUND.west_bound) / 2\n",
    "__average_latitude = (config.LOCAL_REGION_BOUND.north_bound - config.LOCAL_REGION_BOUND.south_bound) / 2\n",
    "\n",
    "num_grid_width = int(\n",
    "    haversine(\n",
    "        config.LOCAL_REGION_BOUND.west_bound,\n",
    "        __average_latitude,\n",
    "        config.LOCAL_REGION_BOUND.east_bound,\n",
    "        __average_latitude,\n",
    "    )\n",
    "    / config.SIDE_LENGTH_KIRO_METER\n",
    "    + 1\n",
    ")\n",
    "num_grid_height = int(\n",
    "    haversine(\n",
    "        __average_longitude,\n",
    "        config.LOCAL_REGION_BOUND.south_bound,\n",
    "        __average_longitude,\n",
    "        config.LOCAL_REGION_BOUND.north_bound,\n",
    "    )\n",
    "    / config.SIDE_LENGTH_KIRO_METER\n",
    "    + 1\n",
    ")"
   ]
  },
  {
   "cell_type": "code",
   "execution_count": 5,
   "id": "1958094f-4f1c-4b5d-ba71-968b8c0e6907",
   "metadata": {},
   "outputs": [],
   "source": [
    "total_width = config.LOCAL_REGION_BOUND.east_bound - config.LOCAL_REGION_BOUND.west_bound\n",
    "total_height = config.LOCAL_REGION_BOUND.north_bound - config.LOCAL_REGION_BOUND.south_bound\n",
    "interval_width = total_width / num_grid_width\n",
    "interval_height = total_height / num_grid_height"
   ]
  },
  {
   "cell_type": "code",
   "execution_count": 6,
   "id": "dee087ca-39f5-4e19-99cc-f19f3373e61a",
   "metadata": {},
   "outputs": [],
   "source": [
    "# create grid\n",
    "grid_manager = GridManager()\n",
    "for i in range(num_grid_height):\n",
    "    smaller_y = config.LOCAL_REGION_BOUND.south_bound + interval_height*i\n",
    "    larger_y = config.LOCAL_REGION_BOUND.south_bound + interval_height*(i+1)\n",
    "    for j in range(num_grid_width):    \n",
    "        smaller_x = config.LOCAL_REGION_BOUND.west_bound + interval_width*j\n",
    "        larger_x = config.LOCAL_REGION_BOUND.west_bound + interval_width*(j+1)\n",
    "\n",
    "        grid_manager.add_grid(\n",
    "            Grid(\n",
    "                idx=i*num_grid_height + j,\n",
    "                west_bound=smaller_x,\n",
    "                east_bound=larger_x,\n",
    "                south_bound=smaller_y,\n",
    "                north_bound=larger_y,\n",
    "                center_longitude=(smaller_x+larger_x)/2,\n",
    "                center_latitude=(smaller_y+larger_y)/2,\n",
    "            )\n",
    "        )\n",
    "\n",
    "center_lng_list = [grid.center_longitude for grid in grid_manager.get_grids()]\n",
    "center_lat_list = [grid.center_latitude for grid in grid_manager.get_grids()]\n",
    "\n",
    "# get nearest node\n",
    "nn = NearestNeighbors(algorithm='ball_tree')\n",
    "nn.fit(node_info_df[[\"Longitude\", \"Latitude\"]].values)\n",
    "\n",
    "node_id_list = node_info_df[\"NodeID\"].values.tolist()\n",
    "\n",
    "center_points_array = np.array([[center_lng, center_lat] for center_lng, center_lat in zip(center_lng_list, center_lat_list)])\n",
    "\n",
    "_, nearest_node_idx= nn.kneighbors(center_points_array, n_neighbors=1)\n",
    "nearest_node_id_list = [node_id_list[idx] for idx in nearest_node_idx.reshape(1,-1)[0]]\n",
    "for node_id, grid in zip(nearest_node_id_list, grid_manager.get_grids()):\n",
    "    node = Node(\n",
    "        node_id=node_id,\n",
    "        node_index=node_info[node_id][\"node_index\"],\n",
    "        longitude=node_info[node_id][\"longitude\"],\n",
    "        latitude=node_info[node_id][\"latitude\"],\n",
    "    )\n",
    "    grid.set_centroid(centroid=node)"
   ]
  },
  {
   "cell_type": "code",
   "execution_count": 7,
   "id": "0f89c2ad-f46a-4019-ab1d-f3aa6b9958ae",
   "metadata": {},
   "outputs": [
    {
     "data": {
      "text/plain": [
       "['_GridManager__grid_list',\n",
       " '__class__',\n",
       " '__delattr__',\n",
       " '__dict__',\n",
       " '__dir__',\n",
       " '__doc__',\n",
       " '__eq__',\n",
       " '__format__',\n",
       " '__ge__',\n",
       " '__getattribute__',\n",
       " '__gt__',\n",
       " '__hash__',\n",
       " '__init__',\n",
       " '__init_subclass__',\n",
       " '__le__',\n",
       " '__len__',\n",
       " '__lt__',\n",
       " '__module__',\n",
       " '__ne__',\n",
       " '__new__',\n",
       " '__reduce__',\n",
       " '__reduce_ex__',\n",
       " '__repr__',\n",
       " '__setattr__',\n",
       " '__sizeof__',\n",
       " '__str__',\n",
       " '__subclasshook__',\n",
       " '__weakref__',\n",
       " 'add_grid',\n",
       " 'get_grids',\n",
       " 'get_minimun_cost_grid']"
      ]
     },
     "execution_count": 7,
     "metadata": {},
     "output_type": "execute_result"
    }
   ],
   "source": [
    "dir(grid_manager)"
   ]
  },
  {
   "cell_type": "code",
   "execution_count": 8,
   "id": "51b2cd1a-2e85-47d6-98b9-a5c74981d5d8",
   "metadata": {},
   "outputs": [],
   "source": [
    "grid = grid_manager.get_grids()[1]"
   ]
  },
  {
   "cell_type": "code",
   "execution_count": 9,
   "id": "e73534c6-c964-4a76-9fb7-0a3e04e05070",
   "metadata": {},
   "outputs": [
    {
     "data": {
      "text/plain": [
       "9"
      ]
     },
     "execution_count": 9,
     "metadata": {},
     "output_type": "execute_result"
    }
   ],
   "source": [
    "len(grid_manager)"
   ]
  },
  {
   "cell_type": "code",
   "execution_count": 10,
   "id": "fc841e78-6daf-4786-a54e-8dedc24eb500",
   "metadata": {},
   "outputs": [],
   "source": [
    "area_node_dict = {}\n",
    "for i, grid in enumerate(grid_manager.get_grids()):\n",
    "    node_ids = node_info_df[\n",
    "        (node_info_df[\"Latitude\"]>grid.south_bound)\n",
    "        & (node_info_df[\"Latitude\"]<=grid.north_bound)\n",
    "        & (node_info_df[\"Longitude\"]<=grid.east_bound)\n",
    "        & (node_info_df[\"Longitude\"]>=grid.west_bound)\n",
    "    ][\"NodeID\"].values.tolist()\n",
    "    area_node_dict.update({i: node_ids})"
   ]
  },
  {
   "cell_type": "code",
   "execution_count": 11,
   "id": "f116500c-e296-4856-8fd8-b80a46032992",
   "metadata": {},
   "outputs": [],
   "source": [
    "area_list = []\n",
    "for k, v in area_node_dict.items():\n",
    "    if len(v) > 0:\n",
    "        area_list.append(k)"
   ]
  },
  {
   "cell_type": "code",
   "execution_count": 12,
   "id": "9aab01c1-e16f-4856-a6c9-b869ad22a1fa",
   "metadata": {},
   "outputs": [],
   "source": [
    "area_list_without_center = list(area_list)\n",
    "area_list_without_center.remove(4)"
   ]
  },
  {
   "cell_type": "code",
   "execution_count": 13,
   "id": "1a0fed84-3473-4acc-87fc-e59612566b59",
   "metadata": {},
   "outputs": [],
   "source": [
    "start_time = datetime(2016, 6, 1)\n",
    "end_time = datetime(2016, 6, 2)\n",
    "\n",
    "def create_dummy_record(start_time, end_time, area_list, area_list_without_center, area_node_dict):\n",
    "    time = random.randint(start_time, end_time)\n",
    "    if random.random() < 1.0:\n",
    "        start_area = 4\n",
    "    else:\n",
    "        start_area = random.choice(area_list)\n",
    "    end_area = random.choice(area_list_without_center)\n",
    "    start_node = random.choice(area_node_dict[start_area])\n",
    "    end_node = random.choice(area_node_dict[end_area])\n",
    "    end_time = time + 100 + random.randint(1, 100)\n",
    "    return {\n",
    "        \"Start_time\": time,\n",
    "        \"End_time\": end_time,\n",
    "        \"NodeS\": start_node,\n",
    "        \"NodeE\": end_node,\n",
    "        \"Start_GridID\": start_area,\n",
    "        \"End_GridID\": end_area,\n",
    "        \"ID\": 0\n",
    "    }"
   ]
  },
  {
   "cell_type": "code",
   "execution_count": 71,
   "id": "1b952495-7b07-4008-be92-d817f0af5722",
   "metadata": {},
   "outputs": [],
   "source": [
    "from datetime import timedelta"
   ]
  },
  {
   "cell_type": "code",
   "execution_count": 15,
   "id": "2e71ccf9-9fc2-4698-b63b-e4b04d877af5",
   "metadata": {},
   "outputs": [],
   "source": [
    "output_dir = Path(\"../data/Order/modified/dummy\")\n",
    "filename_template = \"order_201606{}.csv\"\n",
    "\n",
    "for i in range(30):\n",
    "    start_time = int(datetime(2016, 6, i+1).timestamp())\n",
    "    end_time = int((datetime(2016, 6, i+1) + timedelta(days=1)).timestamp())\n",
    "    records = [create_dummy_record(start_time, end_time, area_list, area_list_without_center, area_node_dict) for _ in range(25000)]\n",
    "    df = pd.DataFrame(records)\n",
    "    df[\"PointS_Longitude\"] = df[\"NodeS\"].apply(lambda x: node_info[x][\"longitude\"])\n",
    "    df[\"PointS_Latitude\"] = df[\"NodeS\"].apply(lambda x: node_info[x][\"latitude\"])\n",
    "    df[\"PointE_Longitude\"] = df[\"NodeE\"].apply(lambda x: node_info[x][\"longitude\"])\n",
    "    df[\"PointE_Latitude\"] = df[\"NodeE\"].apply(lambda x: node_info[x][\"latitude\"])\n",
    "    df.to_csv(output_dir / filename_template.format(str(i+1).zfill(2)), index=False)"
   ]
  },
  {
   "cell_type": "code",
   "execution_count": 16,
   "id": "467fb6a6-24e7-443e-a2b8-8cb8c1a6c109",
   "metadata": {},
   "outputs": [
    {
     "name": "stdout",
     "output_type": "stream",
     "text": [
      "0\n",
      "1\n",
      "2\n",
      "3\n",
      "4\n",
      "5\n",
      "6\n",
      "7\n",
      "8\n"
     ]
    },
    {
     "data": {
      "image/png": "[encoded data removed]",
      "text/plain": [
       "<Figure size 432x288 with 1 Axes>"
      ]
     },
     "metadata": {
      "needs_background": "light"
     },
     "output_type": "display_data"
    }
   ],
   "source": [
    "color_list = [\"blue\", \"green\", \"orange\", \"pink\", \"red\", \"gray\", \"black\", \"yellow\", \"brown\"]\n",
    "count = 0\n",
    "for i, area_id in enumerate(area_list):\n",
    "    print(area_id)\n",
    "    node_ids = area_node_dict[area_id]\n",
    "    tmp_df = pd.DataFrame({\"NodeID\": node_ids})\n",
    "    tmp_df_2 = pd.merge(tmp_df, node_info_df, on=\"NodeID\")\n",
    "    plt.scatter(tmp_df_2[\"Longitude\"], tmp_df_2[\"Latitude\"], color=color_list[i])\n",
    "    "
   ]
  },
  {
   "cell_type": "code",
   "execution_count": 79,
   "id": "10c768f7-b65a-4196-bc54-08953ba92c12",
   "metadata": {},
   "outputs": [
    {
     "data": {
      "text/plain": [
       "[3274304827,\n",
       " 561042148,\n",
       " 3274304829,\n",
       " 561042126,\n",
       " 1494150040,\n",
       " 561042125,\n",
       " 1494150079,\n",
       " 1494150021,\n",
       " 1494150098,\n",
       " 6297396144,\n",
       " 3579133728,\n",
       " 3579133729,\n",
       " 3579133730,\n",
       " 5816038508]"
      ]
     },
     "execution_count": 79,
     "metadata": {},
     "output_type": "execute_result"
    }
   ],
   "source": [
    "area_node_dict[0]"
   ]
  },
  {
   "cell_type": "code",
   "execution_count": 60,
   "id": "8b9705f1-2b84-4047-b81a-aba81e46c287",
   "metadata": {},
   "outputs": [
    {
     "data": {
      "text/plain": [
       "14"
      ]
     },
     "execution_count": 60,
     "metadata": {},
     "output_type": "execute_result"
    }
   ],
   "source": []
  },
  {
   "cell_type": "code",
   "execution_count": null,
   "id": "39f995b3-d68d-4d63-a9fc-3f6eb0e7a7f7",
   "metadata": {},
   "outputs": [],
   "source": []
  }
 ],
 "metadata": {
  "kernelspec": {
   "display_name": "Python 3 (ipykernel)",
   "language": "python",
   "name": "python3"
  },
  "language_info": {
   "codemirror_mode": {
    "name": "ipython",
    "version": 3
   },
   "file_extension": ".py",
   "mimetype": "text/x-python",
   "name": "python",
   "nbconvert_exporter": "python",
   "pygments_lexer": "ipython3",
   "version": "3.9.6"
  }
 },
 "nbformat": 4,
 "nbformat_minor": 5
}
