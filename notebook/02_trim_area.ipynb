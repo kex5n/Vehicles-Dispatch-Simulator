{
 "cells": [
  {
   "cell_type": "markdown",
   "id": "aead3d9d-e7e5-4c04-afc1-e807b03efe73",
   "metadata": {},
   "source": [
    "# trim area\n",
    "01で作成したcsvに対して、config/setting.pyで設定した領域でトリミングする.\n",
    "\n",
    "- input: Raw_Node.csv\n",
    "- output: Trimed_Node.csv"
   ]
  },
  {
   "cell_type": "code",
   "execution_count": null,
   "id": "c48549c5-03ac-4c67-9d2c-9711e08c6d7c",
   "metadata": {},
   "outputs": [],
   "source": [
    "import pandas as pd\n",
    "import os\n",
    "from pathlib import Path\n",
    "pwd = Path(os.getcwd())\n",
    "\n",
    "import sys\n",
    "sys.path.append(str(pwd.parent / \"config\"))\n",
    "\n",
    "from setting import LocalRegionBound\n",
    "\n",
    "LONGITUDE_LOWER_BOUND = LocalRegionBound[0]\n",
    "LONGITUDE_UPPER_BOUND = LocalRegionBound[1]\n",
    "LATITUDE_LOWER_BOUND = LocalRegionBound[2]\n",
    "LATITUDE_UPPER_BOUND = LocalRegionBound[3]\n",
    "\n",
    "df = pd.read_csv(\"../data/Raw_Node.csv\")\n",
    "df = df[\n",
    "    (df[\"Longitude\"] > LONGITUDE_LOWER_BOUND)\n",
    "    & (df[\"Longitude\"] < LONGITUDE_UPPER_BOUND)\n",
    "    & (df[\"Latitude\"] > LATITUDE_LOWER_BOUND)\n",
    "    & (df[\"Latitude\"] < LATITUDE_UPPER_BOUND)\n",
    "]\n",
    "df.to_csv(\"../data/Trimed_Node.csv\", index=False)"
   ]
  },
  {
   "cell_type": "code",
   "execution_count": null,
   "id": "599f6dad-2b84-4a93-b3bf-e322a4349a7d",
   "metadata": {},
   "outputs": [],
   "source": [
    "len(df)"
   ]
  },
  {
   "cell_type": "code",
   "execution_count": null,
   "id": "c4dc49b5-5de5-44d6-ad5a-64872239aafd",
   "metadata": {},
   "outputs": [],
   "source": []
  }
 ],
 "metadata": {
  "kernelspec": {
   "display_name": "Python 3 (ipykernel)",
   "language": "python",
   "name": "python3"
  },
  "language_info": {
   "codemirror_mode": {
    "name": "ipython",
    "version": 3
   },
   "file_extension": ".py",
   "mimetype": "text/x-python",
   "name": "python",
   "nbconvert_exporter": "python",
   "pygments_lexer": "ipython3",
   "version": "3.9.6"
  }
 },
 "nbformat": 4,
 "nbformat_minor": 5
}
